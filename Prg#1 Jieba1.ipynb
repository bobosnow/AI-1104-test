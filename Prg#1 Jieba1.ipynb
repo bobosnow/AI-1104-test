{
 "cells": [
  {
   "cell_type": "code",
   "execution_count": 4,
   "metadata": {},
   "outputs": [
    {
     "name": "stderr",
     "output_type": "stream",
     "text": [
      "Building prefix dict from the default dictionary ...\n",
      "Dumping model to file cache C:\\Users\\user\\AppData\\Local\\Temp\\jieba.cache\n",
      "Loading model cost 0.643 seconds.\n",
      "Prefix dict has been built successfully.\n"
     ]
    },
    {
     "name": "stdout",
     "output_type": "stream",
     "text": [
      "Full Mode: 我/來/到/台中/教育/大/學\n",
      "Default Mode: 我來/到/台/中/教育/大學\n",
      "我來,到,台,中,教育,大學\n",
      "我,好,棒棒,棒棒,，,好,了,啦\n"
     ]
    }
   ],
   "source": [
    "#encodeong=utf-8\n",
    "import jieba\n",
    "\n",
    "seg_list = jieba.cut(\"我來到台中教育大學\",cut_all=True)\n",
    "print(\"Full Mode:\",\"/\".join(seg_list)) #全模式\n",
    "\n",
    "seg_list = jieba.cut(\"我來到台中教育大學\",cut_all=False)\n",
    "print(\"Default Mode:\",\"/\".join(seg_list)) #精確模式\n",
    "\n",
    "seg_list = jieba.cut(\"我來到台中教育大學\")\n",
    "print(\",\".join(seg_list)) #默認是精確模式\n",
    "\n",
    "seg_list = jieba.cut_for_search(\"我好棒棒棒棒，好了啦\") #搜尋引擎模式\n",
    "print(\",\".join(seg_list))"
   ]
  },
  {
   "cell_type": "code",
   "execution_count": null,
   "metadata": {},
   "outputs": [],
   "source": []
  }
 ],
 "metadata": {
  "kernelspec": {
   "display_name": "Python 3",
   "language": "python",
   "name": "python3"
  },
  "language_info": {
   "codemirror_mode": {
    "name": "ipython",
    "version": 3
   },
   "file_extension": ".py",
   "mimetype": "text/x-python",
   "name": "python",
   "nbconvert_exporter": "python",
   "pygments_lexer": "ipython3",
   "version": "3.6.5"
  }
 },
 "nbformat": 4,
 "nbformat_minor": 2
}
